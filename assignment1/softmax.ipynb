{
 "cells": [
  {
   "cell_type": "markdown",
   "metadata": {},
   "source": [
    "# Softmax exercise\n",
    "\n",
    "*Complete and hand in this completed worksheet (including its outputs and any supporting code outside of the worksheet) with your assignment submission. For more details see the [assignments page](http://vision.stanford.edu/teaching/cs231n/assignments.html) on the course website.*\n",
    "\n",
    "This exercise is analogous to the SVM exercise. You will:\n",
    "\n",
    "- implement a fully-vectorized **loss function** for the Softmax classifier\n",
    "- implement the fully-vectorized expression for its **analytic gradient**\n",
    "- **check your implementation** with numerical gradient\n",
    "- use a validation set to **tune the learning rate and regularization** strength\n",
    "- **optimize** the loss function with **SGD**\n",
    "- **visualize** the final learned weights\n"
   ]
  },
  {
   "cell_type": "code",
   "execution_count": 1,
   "metadata": {},
   "outputs": [],
   "source": [
    "import random\n",
    "import numpy as np\n",
    "from cs231n.data_utils import load_CIFAR10\n",
    "import matplotlib.pyplot as plt\n",
    "\n",
    "from __future__ import print_function\n",
    "\n",
    "%matplotlib inline\n",
    "plt.rcParams['figure.figsize'] = (15.0, 10.0) # set default size of plots\n",
    "plt.rcParams['image.interpolation'] = 'nearest'\n",
    "plt.rcParams['image.cmap'] = 'gray'\n",
    "\n",
    "# for auto-reloading extenrnal modules\n",
    "# see http://stackoverflow.com/questions/1907993/autoreload-of-modules-in-ipython\n",
    "%load_ext autoreload\n",
    "%autoreload 2"
   ]
  },
  {
   "cell_type": "code",
   "execution_count": 2,
   "metadata": {},
   "outputs": [
    {
     "name": "stdout",
     "output_type": "stream",
     "text": [
      "Train data shape:  (49000, 3073)\n",
      "Train labels shape:  (49000,)\n",
      "Validation data shape:  (1000, 3073)\n",
      "Validation labels shape:  (1000,)\n",
      "Test data shape:  (1000, 3073)\n",
      "Test labels shape:  (1000,)\n",
      "dev data shape:  (500, 3073)\n",
      "dev labels shape:  (500,)\n"
     ]
    }
   ],
   "source": [
    "def get_CIFAR10_data(num_training=49000, num_validation=1000, num_test=1000, num_dev=500):\n",
    "    \"\"\"\n",
    "    Load the CIFAR-10 dataset from disk and perform preprocessing to prepare\n",
    "    it for the linear classifier. These are the same steps as we used for the\n",
    "    SVM, but condensed to a single function.  \n",
    "    \"\"\"\n",
    "    # Load the raw CIFAR-10 data\n",
    "    cifar10_dir = 'cs231n/datasets/cifar-10-batches-py'\n",
    "    \n",
    "    X_train, y_train, X_test, y_test = load_CIFAR10(cifar10_dir)\n",
    "    \n",
    "    # subsample the data\n",
    "    mask = list(range(num_training, num_training + num_validation))\n",
    "    X_val = X_train[mask]\n",
    "    y_val = y_train[mask]\n",
    "    mask = list(range(num_training))\n",
    "    X_train = X_train[mask]\n",
    "    y_train = y_train[mask]\n",
    "    mask = list(range(num_test))\n",
    "    X_test = X_test[mask]\n",
    "    y_test = y_test[mask]\n",
    "    mask = np.random.choice(num_training, num_dev, replace=False)\n",
    "    X_dev = X_train[mask]\n",
    "    y_dev = y_train[mask]\n",
    "    \n",
    "    # Preprocessing: reshape the image data into rows\n",
    "    X_train = np.reshape(X_train, (X_train.shape[0], -1))\n",
    "    X_val = np.reshape(X_val, (X_val.shape[0], -1))\n",
    "    X_test = np.reshape(X_test, (X_test.shape[0], -1))\n",
    "    X_dev = np.reshape(X_dev, (X_dev.shape[0], -1))\n",
    "    \n",
    "    # Normalize the data: subtract the mean image\n",
    "    mean_image = np.mean(X_train, axis = 0)\n",
    "    X_train -= mean_image\n",
    "    X_val -= mean_image\n",
    "    X_test -= mean_image\n",
    "    X_dev -= mean_image\n",
    "    \n",
    "    # add bias dimension and transform into columns\n",
    "    X_train = np.hstack([X_train, np.ones((X_train.shape[0], 1))])\n",
    "    X_val = np.hstack([X_val, np.ones((X_val.shape[0], 1))])\n",
    "    X_test = np.hstack([X_test, np.ones((X_test.shape[0], 1))])\n",
    "    X_dev = np.hstack([X_dev, np.ones((X_dev.shape[0], 1))])\n",
    "    \n",
    "    return X_train, y_train, X_val, y_val, X_test, y_test, X_dev, y_dev\n",
    "\n",
    "\n",
    "# Cleaning up variables to prevent loading data multiple times (which may cause memory issue)\n",
    "try:\n",
    "   del X_train, y_train\n",
    "   del X_test, y_test\n",
    "   print('Clear previously loaded data.')\n",
    "except:\n",
    "   pass\n",
    "\n",
    "# Invoke the above function to get our data.\n",
    "X_train, y_train, X_val, y_val, X_test, y_test, X_dev, y_dev = get_CIFAR10_data()\n",
    "print('Train data shape: ', X_train.shape)\n",
    "print('Train labels shape: ', y_train.shape)\n",
    "print('Validation data shape: ', X_val.shape)\n",
    "print('Validation labels shape: ', y_val.shape)\n",
    "print('Test data shape: ', X_test.shape)\n",
    "print('Test labels shape: ', y_test.shape)\n",
    "print('dev data shape: ', X_dev.shape)\n",
    "print('dev labels shape: ', y_dev.shape)"
   ]
  },
  {
   "cell_type": "markdown",
   "metadata": {},
   "source": [
    "## Softmax Classifier\n",
    "\n",
    "Your code for this section will all be written inside **cs231n/classifiers/softmax.py**. \n"
   ]
  },
  {
   "cell_type": "code",
   "execution_count": 3,
   "metadata": {},
   "outputs": [
    {
     "name": "stdout",
     "output_type": "stream",
     "text": [
      "loss: 2.359599\n",
      "sanity check: 2.302585\n"
     ]
    }
   ],
   "source": [
    "# First implement the naive softmax loss function with nested loops.\n",
    "# Open the file cs231n/classifiers/softmax.py and implement the\n",
    "# softmax_loss_naive function.\n",
    "\n",
    "from cs231n.classifiers.softmax import softmax_loss_naive\n",
    "import time\n",
    "\n",
    "# Generate a random softmax weight matrix and use it to compute the loss.\n",
    "W = np.random.randn(3073, 10) * 0.0001\n",
    "loss, grad = softmax_loss_naive(W, X_dev, y_dev, 0.0)\n",
    "\n",
    "# As a rough sanity check, our loss should be something close to -log(0.1).\n",
    "print('loss: %f' % loss)\n",
    "print('sanity check: %f' % (-np.log(0.1)))"
   ]
  },
  {
   "cell_type": "markdown",
   "metadata": {},
   "source": [
    "## Inline Question 1:\n",
    "Why do we expect our loss to be close to -log(0.1)? Explain briefly.\n",
    "\n",
    "**Your answer:** *In the cifar-10 dataset, we have 10 classes, and the softmax function has a relation between the correct class and all classes, which gives a ratio of 1/10 = 0.1, and then we take -log from it. We get values close to -log(0.1), because sometimes random weights predict classes correctly.*\n"
   ]
  },
  {
   "cell_type": "code",
   "execution_count": 4,
   "metadata": {},
   "outputs": [
    {
     "name": "stdout",
     "output_type": "stream",
     "text": [
      "numerical: -1.364356 analytic: -1.364356, relative error: 2.256822e-08\n",
      "numerical: 1.294425 analytic: 1.294425, relative error: 2.592324e-08\n",
      "numerical: 0.645532 analytic: 0.645531, relative error: 2.783145e-08\n",
      "numerical: 1.545871 analytic: 1.545871, relative error: 3.738118e-08\n",
      "numerical: 2.216237 analytic: 2.216237, relative error: 4.124180e-08\n",
      "numerical: 2.560942 analytic: 2.560942, relative error: 5.233159e-09\n",
      "numerical: 0.554982 analytic: 0.554982, relative error: 3.668131e-08\n",
      "numerical: 1.348755 analytic: 1.348755, relative error: 3.545893e-09\n",
      "numerical: 2.132413 analytic: 2.132413, relative error: 1.132962e-08\n",
      "numerical: 1.421878 analytic: 1.421878, relative error: 3.816654e-08\n",
      "numerical: -3.227487 analytic: -3.227700, relative error: 3.307114e-05\n",
      "numerical: 1.558231 analytic: 1.558293, relative error: 1.986138e-05\n",
      "numerical: -0.252147 analytic: -0.252094, relative error: 1.051723e-04\n",
      "numerical: 1.296432 analytic: 1.296462, relative error: 1.159021e-05\n",
      "numerical: 0.663986 analytic: 0.664024, relative error: 2.834919e-05\n",
      "numerical: -3.871780 analytic: -3.871861, relative error: 1.046659e-05\n",
      "numerical: -6.851221 analytic: -6.851093, relative error: 9.386776e-06\n",
      "numerical: 1.737887 analytic: 1.737935, relative error: 1.369458e-05\n",
      "numerical: -2.625416 analytic: -2.625488, relative error: 1.368617e-05\n",
      "numerical: -0.944116 analytic: -0.944191, relative error: 3.950990e-05\n"
     ]
    }
   ],
   "source": [
    "# Complete the implementation of softmax_loss_naive and implement a (naive)\n",
    "# version of the gradient that uses nested loops.\n",
    "loss, grad = softmax_loss_naive(W, X_dev, y_dev, 0.0)\n",
    "\n",
    "# As we did for the SVM, use numeric gradient checking as a debugging tool.\n",
    "# The numeric gradient should be close to the analytic gradient.\n",
    "from cs231n.gradient_check import grad_check_sparse\n",
    "f = lambda w: softmax_loss_naive(w, X_dev, y_dev, 0.0)[0]\n",
    "grad_numerical = grad_check_sparse(f, W, grad, 10)\n",
    "\n",
    "# similar to SVM case, do another gradient check with regularization\n",
    "loss, grad = softmax_loss_naive(W, X_dev, y_dev, 5e1)\n",
    "f = lambda w: softmax_loss_naive(w, X_dev, y_dev, 5e1)[0]\n",
    "grad_numerical = grad_check_sparse(f, W, grad, 10)"
   ]
  },
  {
   "cell_type": "code",
   "execution_count": 5,
   "metadata": {},
   "outputs": [
    {
     "name": "stdout",
     "output_type": "stream",
     "text": [
      "naive loss: 2.359599e+00 computed in 0.291029s\n",
      "vectorized loss: 2.359599e+00 computed in 0.017025s\n",
      "Loss difference: 0.000000\n",
      "Gradient difference: 0.000000\n"
     ]
    }
   ],
   "source": [
    "# Now that we have a naive implementation of the softmax loss function and its gradient,\n",
    "# implement a vectorized version in softmax_loss_vectorized.\n",
    "# The two versions should compute the same results, but the vectorized version should be\n",
    "# much faster.\n",
    "tic = time.time()\n",
    "loss_naive, grad_naive = softmax_loss_naive(W, X_dev, y_dev, 0.000005)\n",
    "toc = time.time()\n",
    "print('naive loss: %e computed in %fs' % (loss_naive, toc - tic))\n",
    "\n",
    "from cs231n.classifiers.softmax import softmax_loss_vectorized\n",
    "tic = time.time()\n",
    "loss_vectorized, grad_vectorized = softmax_loss_vectorized(W, X_dev, y_dev, 0.000005)\n",
    "toc = time.time()\n",
    "print('vectorized loss: %e computed in %fs' % (loss_vectorized, toc - tic))\n",
    "\n",
    "# As we did for the SVM, we use the Frobenius norm to compare the two versions\n",
    "# of the gradient.\n",
    "grad_difference = np.linalg.norm(grad_naive - grad_vectorized, ord='fro')\n",
    "print('Loss difference: %f' % np.abs(loss_naive - loss_vectorized))\n",
    "print('Gradient difference: %f' % grad_difference)"
   ]
  },
  {
   "cell_type": "code",
   "execution_count": 94,
   "metadata": {},
   "outputs": [
    {
     "name": "stdout",
     "output_type": "stream",
     "text": [
      "lr 8.300000e-05 reg 4.000000e-03 train accuracy: 0.291224 val accuracy: 0.297000\n",
      "lr 8.300000e-05 reg 6.000000e-03 train accuracy: 0.230000 val accuracy: 0.237000\n",
      "lr 8.300000e-05 reg 8.000000e-03 train accuracy: 0.319490 val accuracy: 0.328000\n",
      "lr 8.300000e-05 reg 1.000000e-02 train accuracy: 0.247367 val accuracy: 0.237000\n",
      "lr 8.300000e-05 reg 1.200000e-02 train accuracy: 0.271612 val accuracy: 0.262000\n",
      "lr 8.300000e-05 reg 1.400000e-02 train accuracy: 0.310347 val accuracy: 0.289000\n",
      "lr 8.300000e-05 reg 1.600000e-02 train accuracy: 0.287939 val accuracy: 0.291000\n",
      "lr 8.300000e-05 reg 1.800000e-02 train accuracy: 0.263918 val accuracy: 0.281000\n",
      "lr 8.300000e-05 reg 2.000000e-02 train accuracy: 0.311796 val accuracy: 0.310000\n",
      "lr 8.300000e-05 reg 2.200000e-02 train accuracy: 0.246980 val accuracy: 0.246000\n",
      "lr 8.311111e-05 reg 4.000000e-03 train accuracy: 0.265898 val accuracy: 0.266000\n",
      "lr 8.311111e-05 reg 6.000000e-03 train accuracy: 0.262020 val accuracy: 0.272000\n",
      "lr 8.311111e-05 reg 8.000000e-03 train accuracy: 0.321980 val accuracy: 0.325000\n",
      "lr 8.311111e-05 reg 1.000000e-02 train accuracy: 0.281510 val accuracy: 0.278000\n",
      "lr 8.311111e-05 reg 1.200000e-02 train accuracy: 0.284592 val accuracy: 0.264000\n",
      "lr 8.311111e-05 reg 1.400000e-02 train accuracy: 0.264163 val accuracy: 0.258000\n",
      "lr 8.311111e-05 reg 1.600000e-02 train accuracy: 0.288122 val accuracy: 0.272000\n",
      "lr 8.311111e-05 reg 1.800000e-02 train accuracy: 0.278959 val accuracy: 0.277000\n",
      "lr 8.311111e-05 reg 2.000000e-02 train accuracy: 0.316367 val accuracy: 0.304000\n",
      "lr 8.311111e-05 reg 2.200000e-02 train accuracy: 0.211041 val accuracy: 0.215000\n",
      "lr 8.322222e-05 reg 4.000000e-03 train accuracy: 0.266694 val accuracy: 0.267000\n",
      "lr 8.322222e-05 reg 6.000000e-03 train accuracy: 0.328592 val accuracy: 0.310000\n",
      "lr 8.322222e-05 reg 8.000000e-03 train accuracy: 0.287490 val accuracy: 0.265000\n",
      "lr 8.322222e-05 reg 1.000000e-02 train accuracy: 0.249673 val accuracy: 0.229000\n",
      "lr 8.322222e-05 reg 1.200000e-02 train accuracy: 0.262327 val accuracy: 0.270000\n",
      "lr 8.322222e-05 reg 1.400000e-02 train accuracy: 0.274776 val accuracy: 0.259000\n",
      "lr 8.322222e-05 reg 1.600000e-02 train accuracy: 0.253347 val accuracy: 0.265000\n",
      "lr 8.322222e-05 reg 1.800000e-02 train accuracy: 0.274633 val accuracy: 0.266000\n",
      "lr 8.322222e-05 reg 2.000000e-02 train accuracy: 0.293388 val accuracy: 0.307000\n",
      "lr 8.322222e-05 reg 2.200000e-02 train accuracy: 0.242735 val accuracy: 0.233000\n",
      "lr 8.333333e-05 reg 4.000000e-03 train accuracy: 0.243245 val accuracy: 0.248000\n",
      "lr 8.333333e-05 reg 6.000000e-03 train accuracy: 0.265429 val accuracy: 0.268000\n",
      "lr 8.333333e-05 reg 8.000000e-03 train accuracy: 0.292673 val accuracy: 0.310000\n",
      "lr 8.333333e-05 reg 1.000000e-02 train accuracy: 0.252776 val accuracy: 0.249000\n",
      "lr 8.333333e-05 reg 1.200000e-02 train accuracy: 0.281204 val accuracy: 0.307000\n",
      "lr 8.333333e-05 reg 1.400000e-02 train accuracy: 0.249245 val accuracy: 0.251000\n",
      "lr 8.333333e-05 reg 1.600000e-02 train accuracy: 0.256204 val accuracy: 0.272000\n",
      "lr 8.333333e-05 reg 1.800000e-02 train accuracy: 0.282122 val accuracy: 0.284000\n",
      "lr 8.333333e-05 reg 2.000000e-02 train accuracy: 0.232776 val accuracy: 0.225000\n",
      "lr 8.333333e-05 reg 2.200000e-02 train accuracy: 0.276286 val accuracy: 0.272000\n",
      "lr 8.344444e-05 reg 4.000000e-03 train accuracy: 0.263980 val accuracy: 0.277000\n",
      "lr 8.344444e-05 reg 6.000000e-03 train accuracy: 0.248571 val accuracy: 0.252000\n",
      "lr 8.344444e-05 reg 8.000000e-03 train accuracy: 0.225980 val accuracy: 0.232000\n",
      "lr 8.344444e-05 reg 1.000000e-02 train accuracy: 0.299612 val accuracy: 0.297000\n",
      "lr 8.344444e-05 reg 1.200000e-02 train accuracy: 0.229184 val accuracy: 0.239000\n",
      "lr 8.344444e-05 reg 1.400000e-02 train accuracy: 0.282796 val accuracy: 0.312000\n",
      "lr 8.344444e-05 reg 1.600000e-02 train accuracy: 0.237245 val accuracy: 0.240000\n",
      "lr 8.344444e-05 reg 1.800000e-02 train accuracy: 0.320347 val accuracy: 0.335000\n",
      "lr 8.344444e-05 reg 2.000000e-02 train accuracy: 0.234163 val accuracy: 0.242000\n",
      "lr 8.344444e-05 reg 2.200000e-02 train accuracy: 0.282449 val accuracy: 0.285000\n",
      "lr 8.355556e-05 reg 4.000000e-03 train accuracy: 0.288878 val accuracy: 0.279000\n",
      "lr 8.355556e-05 reg 6.000000e-03 train accuracy: 0.275061 val accuracy: 0.263000\n",
      "lr 8.355556e-05 reg 8.000000e-03 train accuracy: 0.221163 val accuracy: 0.218000\n",
      "lr 8.355556e-05 reg 1.000000e-02 train accuracy: 0.243816 val accuracy: 0.252000\n",
      "lr 8.355556e-05 reg 1.200000e-02 train accuracy: 0.256184 val accuracy: 0.260000\n",
      "lr 8.355556e-05 reg 1.400000e-02 train accuracy: 0.268878 val accuracy: 0.252000\n",
      "lr 8.355556e-05 reg 1.600000e-02 train accuracy: 0.295429 val accuracy: 0.277000\n",
      "lr 8.355556e-05 reg 1.800000e-02 train accuracy: 0.278796 val accuracy: 0.284000\n",
      "lr 8.355556e-05 reg 2.000000e-02 train accuracy: 0.274551 val accuracy: 0.260000\n",
      "lr 8.355556e-05 reg 2.200000e-02 train accuracy: 0.242041 val accuracy: 0.241000\n",
      "lr 8.366667e-05 reg 4.000000e-03 train accuracy: 0.275592 val accuracy: 0.291000\n",
      "lr 8.366667e-05 reg 6.000000e-03 train accuracy: 0.222245 val accuracy: 0.230000\n",
      "lr 8.366667e-05 reg 8.000000e-03 train accuracy: 0.316327 val accuracy: 0.330000\n",
      "lr 8.366667e-05 reg 1.000000e-02 train accuracy: 0.277837 val accuracy: 0.272000\n",
      "lr 8.366667e-05 reg 1.200000e-02 train accuracy: 0.279449 val accuracy: 0.286000\n",
      "lr 8.366667e-05 reg 1.400000e-02 train accuracy: 0.306959 val accuracy: 0.311000\n",
      "lr 8.366667e-05 reg 1.600000e-02 train accuracy: 0.287143 val accuracy: 0.296000\n",
      "lr 8.366667e-05 reg 1.800000e-02 train accuracy: 0.279347 val accuracy: 0.288000\n",
      "lr 8.366667e-05 reg 2.000000e-02 train accuracy: 0.296429 val accuracy: 0.273000\n",
      "lr 8.366667e-05 reg 2.200000e-02 train accuracy: 0.290633 val accuracy: 0.281000\n",
      "lr 8.377778e-05 reg 4.000000e-03 train accuracy: 0.238408 val accuracy: 0.238000\n",
      "lr 8.377778e-05 reg 6.000000e-03 train accuracy: 0.253857 val accuracy: 0.262000\n",
      "lr 8.377778e-05 reg 8.000000e-03 train accuracy: 0.269143 val accuracy: 0.279000\n",
      "lr 8.377778e-05 reg 1.000000e-02 train accuracy: 0.276306 val accuracy: 0.269000\n",
      "lr 8.377778e-05 reg 1.200000e-02 train accuracy: 0.289041 val accuracy: 0.274000\n",
      "lr 8.377778e-05 reg 1.400000e-02 train accuracy: 0.280163 val accuracy: 0.264000\n",
      "lr 8.377778e-05 reg 1.600000e-02 train accuracy: 0.261286 val accuracy: 0.272000\n",
      "lr 8.377778e-05 reg 1.800000e-02 train accuracy: 0.255204 val accuracy: 0.264000\n",
      "lr 8.377778e-05 reg 2.000000e-02 train accuracy: 0.228490 val accuracy: 0.236000\n",
      "lr 8.377778e-05 reg 2.200000e-02 train accuracy: 0.220653 val accuracy: 0.219000\n",
      "lr 8.388889e-05 reg 4.000000e-03 train accuracy: 0.311816 val accuracy: 0.315000\n",
      "lr 8.388889e-05 reg 6.000000e-03 train accuracy: 0.297306 val accuracy: 0.309000\n",
      "lr 8.388889e-05 reg 8.000000e-03 train accuracy: 0.310449 val accuracy: 0.316000\n",
      "lr 8.388889e-05 reg 1.000000e-02 train accuracy: 0.225347 val accuracy: 0.238000\n",
      "lr 8.388889e-05 reg 1.200000e-02 train accuracy: 0.287571 val accuracy: 0.295000\n",
      "lr 8.388889e-05 reg 1.400000e-02 train accuracy: 0.302878 val accuracy: 0.313000\n",
      "lr 8.388889e-05 reg 1.600000e-02 train accuracy: 0.300122 val accuracy: 0.299000\n",
      "lr 8.388889e-05 reg 1.800000e-02 train accuracy: 0.288837 val accuracy: 0.279000\n",
      "lr 8.388889e-05 reg 2.000000e-02 train accuracy: 0.268204 val accuracy: 0.275000\n",
      "lr 8.388889e-05 reg 2.200000e-02 train accuracy: 0.294184 val accuracy: 0.285000\n",
      "lr 8.400000e-05 reg 4.000000e-03 train accuracy: 0.257714 val accuracy: 0.237000\n",
      "lr 8.400000e-05 reg 6.000000e-03 train accuracy: 0.255939 val accuracy: 0.262000\n",
      "lr 8.400000e-05 reg 8.000000e-03 train accuracy: 0.283673 val accuracy: 0.287000\n",
      "lr 8.400000e-05 reg 1.000000e-02 train accuracy: 0.231816 val accuracy: 0.228000\n",
      "lr 8.400000e-05 reg 1.200000e-02 train accuracy: 0.281592 val accuracy: 0.279000\n",
      "lr 8.400000e-05 reg 1.400000e-02 train accuracy: 0.294918 val accuracy: 0.312000\n",
      "lr 8.400000e-05 reg 1.600000e-02 train accuracy: 0.246633 val accuracy: 0.253000\n",
      "lr 8.400000e-05 reg 1.800000e-02 train accuracy: 0.223980 val accuracy: 0.226000\n",
      "lr 8.400000e-05 reg 2.000000e-02 train accuracy: 0.285898 val accuracy: 0.290000\n",
      "lr 8.400000e-05 reg 2.200000e-02 train accuracy: 0.294082 val accuracy: 0.294000\n",
      "best validation accuracy achieved during cross-validation: 0.335000\n"
     ]
    }
   ],
   "source": [
    "# Use the validation set to tune hyperparameters (regularization strength and\n",
    "# learning rate). You should experiment with different ranges for the learning\n",
    "# rates and regularization strengths; if you are careful you should be able to\n",
    "# get a classification accuracy of over 0.35 on the validation set.\n",
    "from cs231n.classifiers import Softmax\n",
    "results = {}\n",
    "best_val = -1\n",
    "best_softmax = None\n",
    "learning_rates = np.linspace(8.3e-5, 8.4e-5, 10) \n",
    "regularization_strengths = np.linspace(4e-3, 2.2e-2, 10)\n",
    "\n",
    "################################################################################\n",
    "# TODO:                                                                        #\n",
    "# Use the validation set to set the learning rate and regularization strength. #\n",
    "# This should be identical to the validation that you did for the SVM; save    #\n",
    "# the best trained softmax classifer in best_softmax.                          #\n",
    "################################################################################\n",
    "for lr in learning_rates: \n",
    "    for reg in regularization_strengths:\n",
    "        softmax = Softmax()\n",
    "        softmax.train(X_train, y_train, learning_rate=lr, reg=reg, num_iters=200)\n",
    "\n",
    "        y_train_pred = softmax.predict(X_train)\n",
    "        train_acc = np.mean(y_train == y_train_pred)\n",
    "        y_val_pred = softmax.predict(X_val)\n",
    "        valid_acc = np.mean(y_val == y_val_pred)\n",
    "\n",
    "        results[(lr, reg)] = (train_acc, valid_acc)\n",
    "\n",
    "        if valid_acc > best_val:\n",
    "            best_val = valid_acc\n",
    "            best_softmax = softmax\n",
    "################################################################################\n",
    "#                              END OF YOUR CODE                                #\n",
    "################################################################################\n",
    "    \n",
    "# Print out results.\n",
    "for lr, reg in sorted(results):\n",
    "    train_accuracy, val_accuracy = results[(lr, reg)]\n",
    "    print('lr %e reg %e train accuracy: %f val accuracy: %f' % (\n",
    "                lr, reg, train_accuracy, val_accuracy))\n",
    "    \n",
    "print('best validation accuracy achieved during cross-validation: %f' % best_val)"
   ]
  },
  {
   "cell_type": "code",
   "execution_count": 100,
   "metadata": {},
   "outputs": [
    {
     "name": "stdout",
     "output_type": "stream",
     "text": [
      "softmax on raw pixels final test set accuracy: 0.270000\n"
     ]
    }
   ],
   "source": [
    "# evaluate on test set\n",
    "# Evaluate the best softmax on test set\n",
    "y_test_pred = best_softmax.predict(X_test)\n",
    "test_accuracy = np.mean(y_test == y_test_pred)\n",
    "print('softmax on raw pixels final test set accuracy: %f' % (test_accuracy, ))"
   ]
  },
  {
   "cell_type": "markdown",
   "metadata": {},
   "source": [
    "**Inline Question** - *True or False*\n",
    "\n",
    "It's possible to add a new datapoint to a training set that would leave the SVM loss unchanged, but this is not the case with the Softmax classifier loss.\n",
    "\n",
    "**Your answer**: *True*\n",
    "\n",
    "**Your explanation**: *We can have a situation where all components of svm loss are zeros, because the maximum function lowest value is zero, and the softmax function has values in any range*"
   ]
  },
  {
   "cell_type": "code",
   "execution_count": 102,
   "metadata": {},
   "outputs": [
    {
     "data": {
      "image/png": "[encoded data removed]",
      "text/plain": [
       "<Figure size 432x288 with 10 Axes>"
      ]
     },
     "metadata": {},
     "output_type": "display_data"
    }
   ],
   "source": [
    "# Visualize the learned weights for each class\n",
    "w = best_softmax.W[:-1,:] # strip out the bias\n",
    "w = w.reshape(32, 32, 3, 10)\n",
    "\n",
    "w_min, w_max = np.min(w), np.max(w)\n",
    "\n",
    "classes = ['plane', 'car', 'bird', 'cat', 'deer', 'dog', 'frog', 'horse', 'ship', 'truck']\n",
    "for i in range(10):\n",
    "    plt.subplot(2, 5, i + 1)\n",
    "    \n",
    "    # Rescale the weights to be between 0 and 255\n",
    "    wimg = 255.0 * (w[:, :, :, i].squeeze() - w_min) / (w_max - w_min)\n",
    "    plt.imshow(wimg.astype('uint8'))\n",
    "    plt.axis('off')\n",
    "    plt.title(classes[i])"
   ]
  }
 ],
 "metadata": {
  "kernelspec": {
   "display_name": "Python 3",
   "language": "python",
   "name": "python3"
  },
  "language_info": {
   "codemirror_mode": {
    "name": "ipython",
    "version": 3
   },
   "file_extension": ".py",
   "mimetype": "text/x-python",
   "name": "python",
   "nbconvert_exporter": "python",
   "pygments_lexer": "ipython3",
   "version": "3.6.6"
  },
  "notify_time": "5",
  "varInspector": {
   "cols": {
    "lenName": 16,
    "lenType": 16,
    "lenVar": 40
   },
   "kernels_config": {
    "python": {
     "delete_cmd_postfix": "",
     "delete_cmd_prefix": "del ",
     "library": "var_list.py",
     "varRefreshCmd": "print(var_dic_list())"
    },
    "r": {
     "delete_cmd_postfix": ") ",
     "delete_cmd_prefix": "rm(",
     "library": "var_list.r",
     "varRefreshCmd": "cat(var_dic_list()) "
    }
   },
   "types_to_exclude": [
    "module",
    "function",
    "builtin_function_or_method",
    "instance",
    "_Feature"
   ],
   "window_display": false
  }
 },
 "nbformat": 4,
 "nbformat_minor": 1
}
